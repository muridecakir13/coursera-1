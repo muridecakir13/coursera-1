{
 "cells": [
  {
   "cell_type": "markdown",
   "id": "424c4ac2",
   "metadata": {},
   "source": [
    "# Data Science Tools and Ecosystem\n"
   ]
  },
  {
   "cell_type": "markdown",
   "id": "4dbf73b8",
   "metadata": {},
   "source": [
    "In this notebook, Data Science Tools and Ecosystem are summarized.\n"
   ]
  },
  {
   "cell_type": "markdown",
   "id": "e5420900",
   "metadata": {},
   "source": [
    "# Objectives:\n"
   ]
  },
  {
   "cell_type": "markdown",
   "id": "98bd9c33",
   "metadata": {},
   "source": [
    "- List popular languages for Data Science\n",
    "- Learn foundational statistical concepts such as probability distributions, hypothesis testing, and regression analysis\n",
    "- Learn techniques for acquiring , cleaning and preprocessing data from various sources to make it suitable for analysis"
   ]
  },
  {
   "cell_type": "markdown",
   "id": "6efec17c",
   "metadata": {},
   "source": [
    "Some of the popular languages that Data Scientists use are:\n",
    "1. Pyton\n",
    "2. R\n",
    "3. SQL\n",
    "4. JAva\n",
    "5. Julia\n",
    "6. Scala\n",
    "7. MATLAB\n",
    "8. Java Script\n"
   ]
  },
  {
   "cell_type": "markdown",
   "id": "0c060916",
   "metadata": {},
   "source": [
    "Some of the commonly used libraries used by Data Scientist include:\n",
    "1. Numpy\n",
    "2. Pandas\n",
    "3. Matplotlib\n",
    "4. Seaborn\n",
    "5. Scikit-learn\n",
    "6. TensorFlow/PyTorch\n",
    "7. Keras\n",
    "8. Statmodels\n",
    "9. SciPy\n",
    "10. NLTK(Natural Language Toolkit)\n",
    "11. Gensim\n",
    "    "
   ]
  },
  {
   "cell_type": "markdown",
   "id": "1ecf17ee",
   "metadata": {},
   "source": [
    "|# Data Science Tools|\n",
    "|--------------------|\n",
    "|MySQL               |\n",
    "|PostgreSQL          |\n",
    "|Pandas              |\n",
    "|NumPy               |\n",
    "|Seaborn             |\n",
    "|Tableau             |\n",
    "|Scikit-learn        |"
   ]
  },
  {
   "cell_type": "markdown",
   "id": "fbed4e7f",
   "metadata": {},
   "source": [
    "### Below are a few examples of evaluating arithmetic expressions in python."
   ]
  },
  {
   "cell_type": "code",
   "execution_count": 1,
   "id": "e3ec83b2",
   "metadata": {},
   "outputs": [
    {
     "data": {
      "text/plain": [
       "17"
      ]
     },
     "execution_count": 1,
     "metadata": {},
     "output_type": "execute_result"
    }
   ],
   "source": [
    "(3*4)+5"
   ]
  },
  {
   "cell_type": "code",
   "execution_count": 3,
   "id": "4d551326",
   "metadata": {
    "scrolled": true
   },
   "outputs": [
    {
     "name": "stdout",
     "output_type": "stream",
     "text": [
      "200 minutes is equal to 3.3333333333333335 hours.\n"
     ]
    }
   ],
   "source": [
    "minutes = 200 \n",
    "hours =minutes / 60\n",
    "# This will convert 200 minutes to hours by dividing by 60.\n",
    "print(\"200 minutes is equal to\", hours, \"hours.\")"
   ]
  },
  {
   "cell_type": "markdown",
   "id": "deaa8815",
   "metadata": {},
   "source": [
    "## Author"
   ]
  },
  {
   "cell_type": "code",
   "execution_count": null,
   "id": "8bfd8257",
   "metadata": {},
   "outputs": [],
   "source": [
    "Muride"
   ]
  }
 ],
 "metadata": {
  "kernelspec": {
   "display_name": "Python 3 (ipykernel)",
   "language": "python",
   "name": "python3"
  },
  "language_info": {
   "codemirror_mode": {
    "name": "ipython",
    "version": 3
   },
   "file_extension": ".py",
   "mimetype": "text/x-python",
   "name": "python",
   "nbconvert_exporter": "python",
   "pygments_lexer": "ipython3",
   "version": "3.11.5"
  }
 },
 "nbformat": 4,
 "nbformat_minor": 5
}
